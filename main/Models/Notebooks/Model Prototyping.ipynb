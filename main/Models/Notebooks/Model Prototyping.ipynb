{
 "cells": [
  {
   "cell_type": "code",
   "execution_count": 85,
   "id": "337f87f9",
   "metadata": {
    "scrolled": true
   },
   "outputs": [],
   "source": [
    "import torch.nn as nn\n",
    "import torch.nn.functional as F\n",
    "import torch.optim as optim\n",
    "\n",
    "import torch\n",
    "import torchvision\n",
    "import torchvision.transforms as transforms\n",
    "\n",
    "from tqdm.notebook import tqdm\n",
    "\n",
    "import sysc\n",
    "import os\n",
    "sys.path.append(os.path.dirname(os.path.dirname(os.getcwd()))+\"\\\\MySQL Database\")\n",
    "from CreateDB import CreateDB\n",
    "\n",
    "from io import BytesIO\n",
    "from PIL import Image\n",
    "\n",
    "import numpy as np\n",
    "\n",
    "from sklearn.model_selection import train_test_split"
   ]
  },
  {
   "cell_type": "code",
   "execution_count": 5,
   "id": "9f387c31",
   "metadata": {},
   "outputs": [],
   "source": [
    "db = CreateDB('root', 'Liverpool11*')"
   ]
  },
  {
   "cell_type": "code",
   "execution_count": 145,
   "id": "e551f746",
   "metadata": {},
   "outputs": [],
   "source": [
    "query = \"\"\"\n",
    "SELECT image\n",
    "FROM images\n",
    "\"\"\"\n",
    "\n",
    "labels_query = \"\"\"\n",
    "SELECT HBondDonorCount\n",
    "FROM properties\n",
    "\"\"\"\n",
    "\n",
    "properties_query = \"\"\"\n",
    "SELECT \n",
    "\"\"\"\n",
    "\n",
    "images = db.fetch_query('pubchem_database', query)\n",
    "\n",
    "labels = db.fetch_query('pubchem_database', labels_query)\n",
    "\n",
    "img_list = []\n",
    "\n",
    "for i in range(len(images)):\n",
    "    \n",
    "    img_single = list(Image.open(BytesIO(images[i][0])).getdata())\n",
    "    \n",
    "    img_list.append(img_single)\n",
    "    \n",
    "img_array = np.array(img_list).reshape(-1, 1, 100, 100)\n",
    "\n",
    "img_tensor = torch.from_numpy(img_array)\n",
    "\n",
    "labels_array = np.array([x[0] for x in labels]).reshape(-1, 1)\n",
    "\n",
    "labels_tensor = torch.from_numpy(labels_array)\n",
    "\n",
    "X_train, X_test, y_train, y_test = train_test_split(img_tensor, labels_tensor, train_size=0.8, random_state=0)\n",
    "\n",
    "train_dataset = torch.utils.data.TensorDataset(X_train, y_train)\n",
    "\n",
    "test_dataset = torch.utils.data.TensorDataset(X_test, y_test)"
   ]
  },
  {
   "cell_type": "code",
   "execution_count": 148,
   "id": "ee1572c3",
   "metadata": {},
   "outputs": [],
   "source": [
    "batch_size = 4\n",
    "\n",
    "train_loader = torch.utils.data.DataLoader(train_dataset, \n",
    "                                           batch_size=batch_size, \n",
    "                                           shuffle=True, \n",
    "                                           num_workers=2)\n",
    "\n",
    "test_loader = torch.utils.data.DataLoader(test_dataset,\n",
    "                                          batch_size=batch_size,\n",
    "                                          shuffle=False,\n",
    "                                          num_workers=2)"
   ]
  },
  {
   "cell_type": "code",
   "execution_count": 196,
   "id": "9b64e6ae",
   "metadata": {},
   "outputs": [],
   "source": [
    "class Net(nn.Module):\n",
    "    \n",
    "    def __init__(self):\n",
    "        super().__init__()\n",
    "        self.dropout1 = nn.Dropout(p=0.2)\n",
    "        self.conv1 = nn.Conv2d(1, 3, 5)\n",
    "        self.batchnorm1 = nn.BatchNorm2d(3)\n",
    "        self.pool = nn.MaxPool2d(2, 2)\n",
    "        self.dropout2 = nn.Dropout(p=0.2)\n",
    "        self.conv2 = nn.Conv2d(3, 5, 5)\n",
    "        self.batchnorm2 = nn.BatchNorm2d(5)\n",
    "        self.fc1 = nn.Linear(5*22*22, 100)\n",
    "        self.fc2 = nn.Linear(100, 50)\n",
    "        self.fc3 = nn.Linear(50, 1)\n",
    "        \n",
    "    def forward(self, x):\n",
    "        x = self.dropout1(x)\n",
    "        x = self.conv1(x)\n",
    "        x = self.batchnorm1(x)\n",
    "        x = F.relu(x)\n",
    "        x = self.pool(x)\n",
    "        x = self.dropout2(x)\n",
    "        x = self.conv2(x)\n",
    "        x = self.batchnorm2(x)\n",
    "        x = F.relu(x)\n",
    "        x = self.pool(x)\n",
    "        x = torch.flatten(x, start_dim=1)\n",
    "        x = self.fc1(x)\n",
    "        x = self.fc2(x)\n",
    "        x = self.fc3(x)\n",
    "        return x"
   ]
  },
  {
   "cell_type": "code",
   "execution_count": 197,
   "id": "1e66fa30",
   "metadata": {},
   "outputs": [],
   "source": [
    "net = Net()"
   ]
  },
  {
   "cell_type": "code",
   "execution_count": 198,
   "id": "a0d23bce",
   "metadata": {},
   "outputs": [],
   "source": [
    "def train_net(num_epochs, train_loader):\n",
    "    \n",
    "    net.train()\n",
    "    \n",
    "    criterion = nn.MSELoss()\n",
    "    \n",
    "    optimizer = optim.Adam(net.parameters(), lr=0.001)\n",
    "    \n",
    "    losses_over_time = []\n",
    "    \n",
    "    for epoch in range(num_epochs):\n",
    "\n",
    "        running_loss = 0.0\n",
    "\n",
    "        for batch_i, data in enumerate(train_loader, 0):\n",
    "\n",
    "            inputs, labels = data\n",
    "\n",
    "            optimizer.zero_grad()\n",
    "\n",
    "            outputs = net(inputs.float())\n",
    "            \n",
    "            #print(f'input shape: {labels.size()}')\n",
    "            #print(f'output shape: {outputs.size()}')\n",
    "\n",
    "            loss = criterion(outputs, labels.float())\n",
    "\n",
    "            loss.backward()\n",
    "\n",
    "            optimizer.step()\n",
    "\n",
    "            running_loss += loss.item()\n",
    "\n",
    "            if batch_i % 2000 == 1999:\n",
    "                print(f'[{epoch + 1}, {batch_i + 1:5d}] loss: {running_loss/2000:.3f}')\n",
    "                losses_over_time.append(running_loss)\n",
    "                running_loss = 0.0\n",
    "    \n",
    "    return losses_over_time\n",
    "                \n",
    "    print('Finished Training')"
   ]
  },
  {
   "cell_type": "code",
   "execution_count": 156,
   "id": "7731912b",
   "metadata": {
    "scrolled": true
   },
   "outputs": [
    {
     "name": "stdout",
     "output_type": "stream",
     "text": [
      "[1,  2000] loss: 3.351\n",
      "[1,  4000] loss: 1.620\n",
      "[2,  2000] loss: 1.451\n",
      "[2,  4000] loss: 1.866\n",
      "[3,  2000] loss: 1.253\n",
      "[3,  4000] loss: 1.241\n",
      "[4,  2000] loss: 1.495\n",
      "[4,  4000] loss: 1.364\n",
      "[5,  2000] loss: 1.209\n",
      "[5,  4000] loss: 0.947\n",
      "[6,  2000] loss: 1.037\n",
      "[6,  4000] loss: 1.062\n",
      "[7,  2000] loss: 1.002\n",
      "[7,  4000] loss: 1.377\n",
      "[8,  2000] loss: 0.851\n",
      "[8,  4000] loss: 1.022\n",
      "[9,  2000] loss: 1.042\n",
      "[9,  4000] loss: 0.973\n",
      "[10,  2000] loss: 0.873\n",
      "[10,  4000] loss: 0.828\n"
     ]
    }
   ],
   "source": [
    "losses_over_time = train_net(10, train_loader)"
   ]
  },
  {
   "cell_type": "code",
   "execution_count": 157,
   "id": "681b9df1",
   "metadata": {},
   "outputs": [],
   "source": [
    "def eval(test_loader):\n",
    "    \n",
    "    net.eval()\n",
    "    \n",
    "    test_loss_total = 0\n",
    "    \n",
    "    for data in test_loader:\n",
    "        \n",
    "        test_image, test_label = data\n",
    "    \n",
    "        y_pred = net(test_image.float())\n",
    "\n",
    "        test_loss = criterion(y_pred, test_label.float())\n",
    "        \n",
    "        test_loss_total += test_loss.item()\n",
    "\n",
    "    print('Average test loss is {}'.format(test_loss_total/(len(test_loader) * test_loader.batch_size)))\n",
    "    \n",
    "    return test_loss_total/(len(test_loader) * test_loader.batch_size)"
   ]
  },
  {
   "cell_type": "code",
   "execution_count": 158,
   "id": "2564c25b",
   "metadata": {},
   "outputs": [
    {
     "name": "stdout",
     "output_type": "stream",
     "text": [
      "Average test loss is 0.22547994496533647\n"
     ]
    }
   ],
   "source": [
    "test_loss = eval(test_loader)"
   ]
  }
 ],
 "metadata": {
  "kernelspec": {
   "display_name": "Python 3 (ipykernel)",
   "language": "python",
   "name": "python3"
  },
  "language_info": {
   "codemirror_mode": {
    "name": "ipython",
    "version": 3
   },
   "file_extension": ".py",
   "mimetype": "text/x-python",
   "name": "python",
   "nbconvert_exporter": "python",
   "pygments_lexer": "ipython3",
   "version": "3.9.6"
  }
 },
 "nbformat": 4,
 "nbformat_minor": 5
}
